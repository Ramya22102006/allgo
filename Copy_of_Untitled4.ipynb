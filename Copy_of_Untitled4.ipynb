{
  "nbformat": 4,
  "nbformat_minor": 0,
  "metadata": {
    "colab": {
      "provenance": [],
      "authorship_tag": "ABX9TyO2kCRC3JEeyQ+J0wnt04Fn",
      "include_colab_link": true
    },
    "kernelspec": {
      "name": "python3",
      "display_name": "Python 3"
    },
    "language_info": {
      "name": "python"
    }
  },
  "cells": [
    {
      "cell_type": "markdown",
      "metadata": {
        "id": "view-in-github",
        "colab_type": "text"
      },
      "source": [
        "<a href=\"https://colab.research.google.com/github/Ramya22102006/allgo/blob/main/Copy_of_Untitled4.ipynb\" target=\"_parent\"><img src=\"https://colab.research.google.com/assets/colab-badge.svg\" alt=\"Open In Colab\"/></a>"
      ]
    },
    {
      "cell_type": "code",
      "execution_count": null,
      "metadata": {
        "id": "0cgRNQ1MxTif",
        "outputId": "620f288a-c380-4b5a-d094-8c0ab5d84d80",
        "colab": {
          "base_uri": "https://localhost:8080/"
        }
      },
      "outputs": [
        {
          "output_type": "stream",
          "name": "stdout",
          "text": [
            "Shortest distances from vertex 0:\n",
            "Vertex 0: 0\n",
            "Vertex 1: 3\n",
            "Vertex 2: 1\n",
            "Vertex 3: 4\n",
            "Vertex 4: 7\n"
          ]
        }
      ],
      "source": [
        "import heapq\n",
        "\n",
        "class Graph:\n",
        "    def __init__(self):\n",
        "        self.graph = {}  # Dictionary to store adjacency list\n",
        "\n",
        "    def add_edge(self, u, v, weight):\n",
        "        # Add an edge from u to v with the given weight (undirected graph)\n",
        "        if u not in self.graph:\n",
        "            self.graph[u] = []\n",
        "        if v not in self.graph:\n",
        "            self.graph[v] = []\n",
        "        self.graph[u].append((v, weight))\n",
        "        self.graph[v].append((u, weight))\n",
        "\n",
        "    def dijkstra(self, start):\n",
        "        distances = {vertex: float('inf') for vertex in self.graph}\n",
        "        distances[start] = 0\n",
        "        priority_queue = [(0, start)]\n",
        "\n",
        "        while priority_queue:\n",
        "            current_distance, current_vertex = heapq.heappop(priority_queue)\n",
        "\n",
        "            # Skip if we've already found a better path\n",
        "            if current_distance > distances[current_vertex]:\n",
        "                continue\n",
        "\n",
        "            for neighbor, weight in self.graph[current_vertex]:\n",
        "                distance = current_distance + weight\n",
        "\n",
        "                if distance < distances[neighbor]:\n",
        "                    distances[neighbor] = distance\n",
        "                    heapq.heappush(priority_queue, (distance, neighbor))\n",
        "\n",
        "        # Print the shortest paths from the start vertex\n",
        "        print(f\"Shortest distances from vertex {start}:\")\n",
        "        for vertex, distance in distances.items():\n",
        "            print(f\"Vertex {vertex}: {distance}\")\n",
        "\n",
        "# Example usage\n",
        "if __name__ == \"__main__\":\n",
        "    g = Graph()\n",
        "    g.add_edge(0, 1, 4)\n",
        "    g.add_edge(0, 2, 1)\n",
        "    g.add_edge(2, 1, 2)\n",
        "    g.add_edge(1, 3, 1)\n",
        "    g.add_edge(2, 3, 5)\n",
        "    g.add_edge(3, 4, 3)\n",
        "\n",
        "    g.dijkstra(0)\n"
      ]
    }
  ]
}