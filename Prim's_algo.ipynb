{
  "nbformat": 4,
  "nbformat_minor": 0,
  "metadata": {
    "colab": {
      "provenance": [],
      "authorship_tag": "ABX9TyMYotshCkNNe7ILxs1BAH58",
      "include_colab_link": true
    },
    "kernelspec": {
      "name": "python3",
      "display_name": "Python 3"
    },
    "language_info": {
      "name": "python"
    }
  },
  "cells": [
    {
      "cell_type": "markdown",
      "metadata": {
        "id": "view-in-github",
        "colab_type": "text"
      },
      "source": [
        "<a href=\"https://colab.research.google.com/github/Ramya22102006/allgo/blob/main/Copy_of_prim's_algo.ipynb\" target=\"_parent\"><img src=\"https://colab.research.google.com/assets/colab-badge.svg\" alt=\"Open In Colab\"/></a>"
      ]
    },
    {
      "cell_type": "code",
      "execution_count": null,
      "metadata": {
        "colab": {
          "base_uri": "https://localhost:8080/"
        },
        "id": "y9IfpuKS7OBQ",
        "outputId": "7fd025fd-8e91-42b5-8bf8-219153d9009c"
      },
      "outputs": [
        {
          "output_type": "stream",
          "name": "stdout",
          "text": [
            "Edges in the Minimum Spanning Tree:\n",
            "0 - 1 (weight 2)\n",
            "1 - 2 (weight 3)\n",
            "1 - 4 (weight 5)\n",
            "0 - 3 (weight 6)\n",
            "\n",
            "Total cost of MST: 16\n"
          ]
        }
      ],
      "source": [
        "import heapq\n",
        "\n",
        "class Graph:\n",
        "    def __init__(self):\n",
        "        self.graph = {}  # Adjacency list: node -> list of (neighbor, weight)\n",
        "\n",
        "    def add_edge(self, u, v, weight):\n",
        "        if u not in self.graph:\n",
        "            self.graph[u] = []\n",
        "        if v not in self.graph:\n",
        "            self.graph[v] = []\n",
        "        self.graph[u].append((v, weight))\n",
        "        self.graph[v].append((u, weight))  # Undirected graph\n",
        "\n",
        "    def prim_mst(self, start):\n",
        "        visited = set()\n",
        "        min_heap = [(0, start, -1)]  # (weight, current_node, parent_node)\n",
        "        total_cost = 0\n",
        "        mst_edges = []\n",
        "\n",
        "        while min_heap and len(visited) < len(self.graph):\n",
        "            weight, current, parent = heapq.heappop(min_heap)\n",
        "\n",
        "            if current in visited:\n",
        "                continue\n",
        "\n",
        "            visited.add(current)\n",
        "            total_cost += weight\n",
        "\n",
        "            if parent != -1:\n",
        "                mst_edges.append((parent, current, weight))\n",
        "\n",
        "            for neighbor, edge_weight in self.graph[current]:\n",
        "                if neighbor not in visited:\n",
        "                    heapq.heappush(min_heap, (edge_weight, neighbor, current))\n",
        "\n",
        "        print(\"Edges in the Minimum Spanning Tree:\")\n",
        "        for u, v, w in mst_edges:\n",
        "            print(f\"{u} - {v} (weight {w})\")\n",
        "        print(f\"\\nTotal cost of MST: {total_cost}\")\n",
        "\n",
        "# Example usage\n",
        "if __name__ == \"__main__\":\n",
        "    g = Graph()\n",
        "    g.add_edge(0, 1, 2)\n",
        "    g.add_edge(0, 3, 6)\n",
        "    g.add_edge(1, 2, 3)\n",
        "    g.add_edge(1, 3, 8)\n",
        "    g.add_edge(1, 4, 5)\n",
        "    g.add_edge(2, 4, 7)\n",
        "    g.add_edge(3, 4, 9)\n",
        "\n",
        "    g.prim_mst(0)\n"
      ]
    }
  ]
}
