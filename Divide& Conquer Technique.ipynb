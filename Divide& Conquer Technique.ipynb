{
  "nbformat": 4,
  "nbformat_minor": 0,
  "metadata": {
    "colab": {
      "provenance": [],
      "authorship_tag": "ABX9TyNFZiWetzgZaTHhieCEhR3Q",
      "include_colab_link": true
    },
    "kernelspec": {
      "name": "python3",
      "display_name": "Python 3"
    },
    "language_info": {
      "name": "python"
    }
  },
  "cells": [
    {
      "cell_type": "markdown",
      "metadata": {
        "id": "view-in-github",
        "colab_type": "text"
      },
      "source": [
        "<a href=\"https://colab.research.google.com/github/Ramya22102006/allgo/blob/main/Divide%26%20Conquer%20Technique.ipynb\" target=\"_parent\"><img src=\"https://colab.research.google.com/assets/colab-badge.svg\" alt=\"Open In Colab\"/></a>"
      ]
    },
    {
      "cell_type": "code",
      "execution_count": 1,
      "metadata": {
        "colab": {
          "base_uri": "https://localhost:8080/"
        },
        "id": "zjqYtmwtZcJl",
        "outputId": "6dd9c6fc-4b00-42f2-9723-939444d12f44"
      },
      "outputs": [
        {
          "output_type": "stream",
          "name": "stdout",
          "text": [
            "Minimum element is: 1\n",
            "Maximum element is: 9\n"
          ]
        }
      ],
      "source": [
        "def find_min_max(arr, low, high):\n",
        "    # If there is only one element\n",
        "    if low == high:\n",
        "        return arr[low], arr[low]\n",
        "\n",
        "    # If there are two elements\n",
        "    elif high == low + 1:\n",
        "        if arr[low] < arr[high]:\n",
        "            return arr[low], arr[high]\n",
        "        else:\n",
        "            return arr[high], arr[low]\n",
        "\n",
        "    # If there are more than two elements\n",
        "    else:\n",
        "        mid = (low + high) // 2\n",
        "        min1, max1 = find_min_max(arr, low, mid)\n",
        "        min2, max2 = find_min_max(arr, mid + 1, high)\n",
        "\n",
        "        return min(min1, min2), max(max1, max2)\n",
        "\n",
        "# Example usage\n",
        "arr = [5, 3, 8, 6, 2, 9, 1, 7]\n",
        "n = len(arr)\n",
        "minimum, maximum = find_min_max(arr, 0, n - 1)\n",
        "\n",
        "print(\"Minimum element is:\", minimum)\n",
        "print(\"Maximum element is:\", maximum)\n"
      ]
    }
  ]
}