{
  "nbformat": 4,
  "nbformat_minor": 0,
  "metadata": {
    "colab": {
      "provenance": [],
      "authorship_tag": "ABX9TyOIxVf7UvyuW943Ch49CvJJ",
      "include_colab_link": true
    },
    "kernelspec": {
      "name": "python3",
      "display_name": "Python 3"
    },
    "language_info": {
      "name": "python"
    }
  },
  "cells": [
    {
      "cell_type": "markdown",
      "metadata": {
        "id": "view-in-github",
        "colab_type": "text"
      },
      "source": [
        "<a href=\"https://colab.research.google.com/github/Ramya22102006/allgo/blob/main/Copy_of_DFS.ipynb\" target=\"_parent\"><img src=\"https://colab.research.google.com/assets/colab-badge.svg\" alt=\"Open In Colab\"/></a>"
      ]
    },
    {
      "cell_type": "code",
      "execution_count": null,
      "metadata": {
        "colab": {
          "base_uri": "https://localhost:8080/"
        },
        "id": "7H9yJHAFs097",
        "outputId": "8847f4fe-ef65-47a1-8f82-3e6d6c7ab074"
      },
      "outputs": [
        {
          "output_type": "stream",
          "name": "stdout",
          "text": [
            "BFS Traversal starting from node 0 : 0 1 2 3 4 5 "
          ]
        }
      ],
      "source": [
        "from collections import deque\n",
        "\n",
        "class Graph:\n",
        "    def __init__(self):\n",
        "        self.graph = {}  # dictionary to store adjacency list\n",
        "\n",
        "    def add_edge(self, u, v):\n",
        "        # Add an edge from u to v (undirected graph)\n",
        "        if u not in self.graph:\n",
        "            self.graph[u] = []\n",
        "        if v not in self.graph:\n",
        "            self.graph[v] = []\n",
        "        self.graph[u].append(v)\n",
        "        self.graph[v].append(u)\n",
        "\n",
        "    def bfs(self, start):\n",
        "        visited = set()\n",
        "        queue = deque([start])\n",
        "\n",
        "        print(\"BFS Traversal starting from node\", start, \": \", end='')\n",
        "\n",
        "        while queue:\n",
        "            vertex = queue.popleft()\n",
        "            if vertex not in visited:\n",
        "                print(vertex, end=' ')\n",
        "                visited.add(vertex)\n",
        "                # Enqueue unvisited neighbors\n",
        "                for neighbor in self.graph.get(vertex, []):\n",
        "                    if neighbor not in visited:\n",
        "                        queue.append(neighbor)\n",
        "\n",
        "# Example usage\n",
        "if __name__ == \"__main__\":\n",
        "    g = Graph()\n",
        "    g.add_edge(0, 1)\n",
        "    g.add_edge(0, 2)\n",
        "    g.add_edge(1, 3)\n",
        "    g.add_edge(2, 4)\n",
        "    g.add_edge(3, 4)\n",
        "    g.add_edge(4, 5)\n",
        "\n",
        "    g.bfs(0)\n"
      ]
    },
    {
      "cell_type": "code",
      "source": [
        "class Graph:\n",
        "    def __init__(self):\n",
        "        self.graph = {}  # Dictionary to store adjacency list\n",
        "\n",
        "    def add_edge(self, u, v):\n",
        "        # Add an edge from u to v (undirected graph)\n",
        "        if u not in self.graph:\n",
        "            self.graph[u] = []\n",
        "        if v not in self.graph:\n",
        "            self.graph[v] = []\n",
        "        self.graph[u].append(v)\n",
        "        self.graph[v].append(u)\n",
        "\n",
        "    def dfs(self, start, visited=None):\n",
        "        if visited is None:\n",
        "            visited = set()\n",
        "\n",
        "        visited.add(start)\n",
        "        print(start, end=' ')\n",
        "\n",
        "        for neighbor in self.graph.get(start, []):\n",
        "            if neighbor not in visited:\n",
        "                self.dfs(neighbor, visited)\n",
        "\n",
        "# Example usage\n",
        "if __name__ == \"__main__\":\n",
        "    g = Graph()\n",
        "    g.add_edge(0, 1)\n",
        "    g.add_edge(0, 2)\n",
        "    g.add_edge(1, 3)\n",
        "    g.add_edge(2, 4)\n",
        "    g.add_edge(3, 4)\n",
        "    g.add_edge(4, 5)\n",
        "\n",
        "    print(\"DFS Traversal starting from node 0 : \", end='')\n",
        "    g.dfs(0)\n"
      ],
      "metadata": {
        "colab": {
          "base_uri": "https://localhost:8080/"
        },
        "id": "Rly_dETpvaD5",
        "outputId": "8847f160-1061-4492-bb3e-5deb71f6c553"
      },
      "execution_count": null,
      "outputs": [
        {
          "output_type": "stream",
          "name": "stdout",
          "text": [
            "DFS Traversal starting from node 0 : 0 1 3 4 2 5 "
          ]
        }
      ]
    }
  ]
}
