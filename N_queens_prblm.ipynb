{
  "nbformat": 4,
  "nbformat_minor": 0,
  "metadata": {
    "colab": {
      "provenance": [],
      "authorship_tag": "ABX9TyP+4Db+82qMOD1d0Vxhm6lw",
      "include_colab_link": true
    },
    "kernelspec": {
      "name": "python3",
      "display_name": "Python 3"
    },
    "language_info": {
      "name": "python"
    }
  },
  "cells": [
    {
      "cell_type": "markdown",
      "metadata": {
        "id": "view-in-github",
        "colab_type": "text"
      },
      "source": [
        "<a href=\"https://colab.research.google.com/github/Ramya22102006/allgo/blob/main/N_queens_prblm.ipynb\" target=\"_parent\"><img src=\"https://colab.research.google.com/assets/colab-badge.svg\" alt=\"Open In Colab\"/></a>"
      ]
    },
    {
      "cell_type": "code",
      "execution_count": null,
      "metadata": {
        "colab": {
          "base_uri": "https://localhost:8080/"
        },
        "id": "R_ArmPYad2_W",
        "outputId": "9de3d7e7-e601-4c48-90ab-af4dbac18f23"
      },
      "outputs": [
        {
          "output_type": "stream",
          "name": "stdout",
          "text": [
            ". Q . .\n",
            ". . . Q\n",
            "Q . . .\n",
            ". . Q .\n",
            "\n",
            ". . Q .\n",
            "Q . . .\n",
            ". . . Q\n",
            ". Q . .\n",
            "\n",
            "Above are all solutions.\n"
          ]
        }
      ],
      "source": [
        "def print_solution(board):\n",
        "    for row in board:\n",
        "        print(\" \".join(\"Q\" if x else \".\" for x in row))\n",
        "    print()\n",
        "\n",
        "def is_safe(board, row, col, n):\n",
        "    # Check this column on the upper side\n",
        "    for i in range(row):\n",
        "        if board[i][col]:\n",
        "            return False\n",
        "\n",
        "    # Check upper left diagonal\n",
        "    for i, j in zip(range(row - 1, -1, -1), range(col - 1, -1, -1)):\n",
        "        if board[i][j]:\n",
        "            return False\n",
        "\n",
        "    # Check upper right diagonal\n",
        "    for i, j in zip(range(row - 1, -1, -1), range(col + 1, n)):\n",
        "        if board[i][j]:\n",
        "            return False\n",
        "\n",
        "    return True\n",
        "\n",
        "def solve_n_queens_util(board, row, n):\n",
        "    if row == n:\n",
        "        print_solution(board)\n",
        "        return True\n",
        "\n",
        "    res = False\n",
        "    for col in range(n):\n",
        "        if is_safe(board, row, col, n):\n",
        "            board[row][col] = 1\n",
        "            res = solve_n_queens_util(board, row + 1, n) or res\n",
        "            board[row][col] = 0  # backtrack\n",
        "    return res\n",
        "\n",
        "def solve_n_queens(n):\n",
        "    board = [[0] * n for _ in range(n)]\n",
        "    if not solve_n_queens_util(board, 0, n):\n",
        "        print(\"No solution exists.\")\n",
        "    else:\n",
        "        print(\"Above are all solutions.\")\n",
        "\n",
        "# Example usage:\n",
        "solve_n_queens(4)\n"
      ]
    }
  ]
}